{
  "nbformat": 4,
  "nbformat_minor": 0,
  "metadata": {
    "colab": {
      "provenance": []
    },
    "kernelspec": {
      "name": "python3",
      "display_name": "Python 3"
    },
    "language_info": {
      "name": "python"
    }
  },
  "cells": [
    {
      "cell_type": "code",
      "execution_count": null,
      "metadata": {
        "id": "3yn0g5h1tsq6"
      },
      "outputs": [],
      "source": [
        "import numpy as np\n",
        "import tensorflow as tf\n",
        "from keras.preprocessing.image import ImageDataGenerator\n",
        "from keras.models import Sequential\n",
        "from keras.layers import Dense, Input,Dropout,GlobalAveragePooling2D\n",
        "from keras import applications\n",
        "import time\n",
        "from tensorflow import keras"
      ]
    },
    {
      "cell_type": "code",
      "source": [
        "BATCH_SIZE = 32\n",
        "img_height = 150\n",
        "TARGET_SIZE=(150,150)\n",
        "\n",
        "img_width = 150\n",
        "val_split = 0.1\n",
        "data_dir = \"/content/drive/MyDrive/natural_images\""
      ],
      "metadata": {
        "id": "kIEq1OoVuRfL"
      },
      "execution_count": null,
      "outputs": []
    },
    {
      "cell_type": "code",
      "source": [
        "datagen = ImageDataGenerator(rescale= 1.0/255,\n",
        "          validation_split = val_split)\n",
        "train_gen = datagen.flow_from_directory(\n",
        "    data_dir,\n",
        "    target_size=TARGET_SIZE,\n",
        "    batch_size=BATCH_SIZE,\n",
        "    color_mode ='rgb',\n",
        "    class_mode= 'categorical',\n",
        "    shuffle=True,\n",
        "    seed=160,\n",
        "    subset='training'\n",
        ")\n",
        "val_gen = datagen.flow_from_directory(\n",
        "    data_dir,\n",
        "    target_size=TARGET_SIZE,\n",
        "    batch_size=BATCH_SIZE,\n",
        "    color_mode ='rgb',\n",
        "    class_mode= 'categorical',\n",
        "    shuffle=True,\n",
        "    seed=160,\n",
        "    subset='validation'\n",
        ")"
      ],
      "metadata": {
        "colab": {
          "base_uri": "https://localhost:8080/"
        },
        "id": "ZMo0W9WouZJn",
        "outputId": "c3225232-66f0-48ed-f487-80b8d318e254"
      },
      "execution_count": null,
      "outputs": [
        {
          "output_type": "stream",
          "name": "stdout",
          "text": [
            "Found 6213 images belonging to 8 classes.\n",
            "Found 686 images belonging to 8 classes.\n"
          ]
        }
      ]
    },
    {
      "cell_type": "code",
      "source": [
        "base_model = tf.keras.applications.ResNet50(\n",
        "    include_top=False,\n",
        "    weights=\"imagenet\",\n",
        "    #input_tensor=None,\n",
        "    input_shape=(150, 150, 3),\n",
        "    #pooling=None,\n",
        "    classes=8,\n",
        "    \n",
        ")"
      ],
      "metadata": {
        "colab": {
          "base_uri": "https://localhost:8080/"
        },
        "id": "IGy4lctmubZm",
        "outputId": "8162cf72-dbc6-41e6-b12b-278df59e4a4e"
      },
      "execution_count": null,
      "outputs": [
        {
          "output_type": "stream",
          "name": "stdout",
          "text": [
            "Downloading data from https://storage.googleapis.com/tensorflow/keras-applications/resnet/resnet50_weights_tf_dim_ordering_tf_kernels_notop.h5\n",
            "94773248/94765736 [==============================] - 1s 0us/step\n",
            "94781440/94765736 [==============================] - 1s 0us/step\n"
          ]
        }
      ]
    },
    {
      "cell_type": "code",
      "source": [
        "base_model.trainable = False"
      ],
      "metadata": {
        "id": "upVeihocu2me"
      },
      "execution_count": null,
      "outputs": []
    },
    {
      "cell_type": "code",
      "source": [
        "inputs = keras.Input(shape=(150, 150, 3))\n",
        "\n",
        "x = base_model(inputs, training=False)\n",
        "\n",
        "x = keras.layers.GlobalAveragePooling2D()(x)\n",
        "\n",
        "outputs = keras.layers.Dense(8,activation='softmax')(x)\n",
        "model = keras.Model(inputs, outputs)"
      ],
      "metadata": {
        "id": "9p4Lp5-Lu9If"
      },
      "execution_count": null,
      "outputs": []
    },
    {
      "cell_type": "code",
      "source": [
        "classifer.compile(optimizer='adam',loss='mean_squared_error',metrics=['accuracy'])\n",
        "history=classifer.fit(train_gen, epochs=10, validation_data=val_gen)"
      ],
      "metadata": {
        "colab": {
          "base_uri": "https://localhost:8080/"
        },
        "id": "9L-ZMTULu_xH",
        "outputId": "137283be-7025-4a5c-8ce3-68d18d2ab975"
      },
      "execution_count": null,
      "outputs": [
        {
          "output_type": "stream",
          "name": "stdout",
          "text": [
            "Epoch 1/10\n",
            "195/195 [==============================] - 2140s 11s/step - loss: 0.1009 - accuracy: 0.3019 - val_loss: 0.0896 - val_accuracy: 0.4096\n",
            "Epoch 2/10\n",
            "195/195 [==============================] - 462s 2s/step - loss: 0.0888 - accuracy: 0.4553 - val_loss: 0.0825 - val_accuracy: 0.5656\n",
            "Epoch 3/10\n",
            "195/195 [==============================] - 461s 2s/step - loss: 0.0829 - accuracy: 0.5339 - val_loss: 0.0767 - val_accuracy: 0.6399\n",
            "Epoch 4/10\n",
            "195/195 [==============================] - 460s 2s/step - loss: 0.0785 - accuracy: 0.5868 - val_loss: 0.0736 - val_accuracy: 0.5889\n",
            "Epoch 5/10\n",
            "195/195 [==============================] - 461s 2s/step - loss: 0.0748 - accuracy: 0.6095 - val_loss: 0.0704 - val_accuracy: 0.6327\n",
            "Epoch 6/10\n",
            "195/195 [==============================] - 467s 2s/step - loss: 0.0718 - accuracy: 0.6325 - val_loss: 0.0679 - val_accuracy: 0.6268\n",
            "Epoch 7/10\n",
            "195/195 [==============================] - 473s 2s/step - loss: 0.0689 - accuracy: 0.6467 - val_loss: 0.0659 - val_accuracy: 0.6866\n",
            "Epoch 8/10\n",
            "195/195 [==============================] - 461s 2s/step - loss: 0.0667 - accuracy: 0.6588 - val_loss: 0.0641 - val_accuracy: 0.6837\n",
            "Epoch 9/10\n",
            "195/195 [==============================] - 462s 2s/step - loss: 0.0644 - accuracy: 0.6737 - val_loss: 0.0623 - val_accuracy: 0.6939\n",
            "Epoch 10/10\n",
            "195/195 [==============================] - 461s 2s/step - loss: 0.0627 - accuracy: 0.6813 - val_loss: 0.0601 - val_accuracy: 0.6895\n"
          ]
        }
      ]
    },
    {
      "cell_type": "code",
      "source": [
        "from matplotlib import pyplot as plt\n",
        "plt.plot(history.history['accuracy'])\n",
        "plt.title('model accuracy')\n",
        "plt.ylabel('accuracy')\n",
        "plt.xlabel('epoch')\n",
        "plt.legend(['train', 'val'], loc='upper left')\n",
        "plt.show()"
      ],
      "metadata": {
        "colab": {
          "base_uri": "https://localhost:8080/",
          "height": 295
        },
        "id": "PYBZYgWovCIL",
        "outputId": "a37fda2c-f345-463d-fd5a-8ac2eac6e256"
      },
      "execution_count": null,
      "outputs": [
        {
          "output_type": "display_data",
          "data": {
            "text/plain": [
              "<Figure size 432x288 with 1 Axes>"
            ],
            "image/png": "[encoded data removed]"
          },
          "metadata": {
            "needs_background": "light"
          }
        }
      ]
    },
    {
      "cell_type": "code",
      "source": [
        "plt.plot(history.history['loss'])\n",
        "plt.plot(history.history['val_loss'],color = \"orange\",linewidth = 5,linestyle = \"--\")\n",
        "plt.title('model loss')\n",
        "plt.ylabel('loss',color = \"#9f7adf\")\n",
        "plt.xlabel('epoch',color = \"#9f7adf\")\n",
        "plt.legend(['train', 'val'], loc='upper left')\n",
        "plt.show()"
      ],
      "metadata": {
        "colab": {
          "base_uri": "https://localhost:8080/",
          "height": 295
        },
        "id": "P52cqikwvHHe",
        "outputId": "fe0c071d-e118-4f8a-924b-48c671c59c04"
      },
      "execution_count": null,
      "outputs": [
        {
          "output_type": "display_data",
          "data": {
            "text/plain": [
              "<Figure size 432x288 with 1 Axes>"
            ],
            "image/png": "[encoded data removed]"
          },
          "metadata": {
            "needs_background": "light"
          }
        }
      ]
    },
    {
      "cell_type": "code",
      "source": [],
      "metadata": {
        "id": "lU4MPNeFWIVQ"
      },
      "execution_count": null,
      "outputs": []
    }
  ]
}